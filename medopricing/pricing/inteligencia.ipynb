{
 "cells": [
  {
   "cell_type": "code",
   "execution_count": 20,
   "metadata": {},
   "outputs": [],
   "source": [
    "import pandas as pd\n",
    "import numpy as np\n",
    "import math\n",
    "\n",
    "\n",
    "\n",
    "def precio_mueble(params, precios):\n",
    "    #función para calcular precio de cada parte del mueble\n",
    "    precio_final = {'tablero':0, 'union':0, 'apoyos':0}\n",
    "    \n",
    "    for i in params:\n",
    "        precio_final[i]  = precio_final[i]+(precios[params[i]['veneer']]+precios[params[i]['width']])*params[i]['area']+precios['prmt']*params[i]['prmt']\n",
    "    precio_final['final']=precio_final['tablero']+precio_final['union']\n",
    "    return precio_final    \n"
   ]
  }
 ],
 "metadata": {
  "kernelspec": {
   "display_name": "Python 3",
   "language": "python",
   "name": "python3"
  },
  "language_info": {
   "codemirror_mode": {
    "name": "ipython",
    "version": 3
   },
   "file_extension": ".py",
   "mimetype": "text/x-python",
   "name": "python",
   "nbconvert_exporter": "python",
   "pygments_lexer": "ipython3",
   "version": "3.6.5"
  }
 },
 "nbformat": 4,
 "nbformat_minor": 2
}
