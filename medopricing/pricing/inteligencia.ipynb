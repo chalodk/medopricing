{
 "cells": [
  {
   "cell_type": "code",
   "execution_count": 15,
   "metadata": {},
   "outputs": [],
   "source": [
    "import pandas as pd\n",
    "import numpy as np\n",
    "import math\n",
    "\n",
    "\n",
    "### for que recorra partes del diccionario\n",
    "\n",
    "def price_f(params):\n",
    "    pass\n",
    "###################################################################################################\n",
    "### Función para guardar el grosor de la parte\n",
    "def grosor(parte):\n",
    "    \n",
    "    gr = parte['thickness']\n",
    "    if gr >= 30:\n",
    "        \n",
    "        gr = 'tmm'\n",
    "        \n",
    "    elif gr < 30 and gr >=18:\n",
    "        \n",
    "        gr = 'dmm'\n",
    "        \n",
    "    else:\n",
    "        \n",
    "        gr = 'qmm'\n",
    "    \n",
    "    return gr\n",
    "###################################################################################################\n",
    "### Función para guardar el tipo de chapa de la parte\n",
    "\n",
    "def vnr(parte):\n",
    "    \n",
    "    vn = parte['veneer']\n",
    "    \n",
    "    return vn\n",
    "\n",
    "###################################################################################################    \n",
    "### Función para calcular precios finales por parte\n",
    "\n",
    "def precio_mueble(params, precios):\n",
    "    \n",
    "    precio_final = dict()\n",
    "    final = 0\n",
    "    parts = list(params)\n",
    "   \n",
    "    for i in parts:\n",
    "        \n",
    "        aux = 0\n",
    "        vn = params[i]['veneer']\n",
    "        gr = params[i]['thickness']\n",
    "        \n",
    "        if gr >= 30:\n",
    "        \n",
    "            gr = 'tmm'\n",
    "        \n",
    "        elif gr < 30 and gr >=18:\n",
    "        \n",
    "            gr = 'dmm'\n",
    "        \n",
    "        else:\n",
    "        \n",
    "            gr = 'qmm'\n",
    "        \n",
    "        keys = list(params[i])\n",
    "        \n",
    "        for k in keys:\n",
    "            \n",
    "            \n",
    "            if k == 'area':\n",
    "                aux = aux + params[i][k]*(precios[vn]+precios[gr])\n",
    "                    \n",
    "            elif k == 'perimeter':\n",
    "                aux = aux + params[i][k]*precios['prmtr']\n",
    "\n",
    "            else:\n",
    "                pass\n",
    "            precio_final[i] = aux\n",
    "        final = final+precio_final[i]\n",
    "    final_p = {'final':final}\n",
    "                \n",
    "    return final_p\n",
    "\n",
    "\n",
    "####################################################################################################################"
   ]
  },
  {
   "cell_type": "code",
   "execution_count": 18,
   "metadata": {},
   "outputs": [
    {
     "data": {
      "text/plain": [
       "dict"
      ]
     },
     "execution_count": 18,
     "metadata": {},
     "output_type": "execute_result"
    }
   ],
   "source": [
    "a = {'parte1':{'veneer':'alpi2','thickness':32.4, 'area':34}, 'parte2':{'veneer':'alpi3', 'area':3, 'thickness':16}}\n",
    "p = {'alpi2':3, 'alpi3':4, 'tmm':2, 'qmm':5}\n",
    "h = precio_mueble(a,p)\n",
    "type(h)"
   ]
  },
  {
   "cell_type": "code",
   "execution_count": 17,
   "metadata": {},
   "outputs": [
    {
     "name": "stdout",
     "output_type": "stream",
     "text": [
      "{'width': 2, 'area': 2, 'ff': 2}\n"
     ]
    }
   ],
   "source": [
    "a = {'width':'qmm', 'area':'ssf',  'ff':{'sf':2, 'ss':3}}\n",
    "b = {a['width']:15}\n",
    "d = dict()\n",
    "\n",
    "c = list(a)\n",
    "for i in c:\n",
    "    d[i]=2\n",
    "print(d)"
   ]
  }
 ],
 "metadata": {
  "kernelspec": {
   "display_name": "Python 3",
   "language": "python",
   "name": "python3"
  },
  "language_info": {
   "codemirror_mode": {
    "name": "ipython",
    "version": 3
   },
   "file_extension": ".py",
   "mimetype": "text/x-python",
   "name": "python",
   "nbconvert_exporter": "python",
   "pygments_lexer": "ipython3",
   "version": "3.6.5"
  }
 },
 "nbformat": 4,
 "nbformat_minor": 2
}
