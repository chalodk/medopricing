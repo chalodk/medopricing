{
 "cells": [
  {
   "cell_type": "code",
   "execution_count": 2,
   "metadata": {},
   "outputs": [],
   "source": [
    "import pandas as pd\n",
    "import numpy as np\n",
    "import math\n",
    "\n",
    "\n",
    "### for que recorra partes del diccionario\n",
    "\n",
    "def price_f(params):\n",
    "    pass\n",
    "###################################################################################################\n",
    "### Función para guardar el grosor de la parte\n",
    "def grosor(parte):\n",
    "    \n",
    "    gr = parte['thickness']\n",
    "    if gr >= 30:\n",
    "        \n",
    "        gr = 'tmm'\n",
    "        \n",
    "    elif gr < 30 and gr >=18:\n",
    "        \n",
    "        gr = 'dmm'\n",
    "        \n",
    "    else:\n",
    "        \n",
    "        gr = 'qmm'\n",
    "    \n",
    "    return gr\n",
    "###################################################################################################\n",
    "### Función para guardar el tipo de chapa de la parte\n",
    "\n",
    "def vnr(parte):\n",
    "    \n",
    "    vn = parte['veneer']\n",
    "    \n",
    "    return vn\n",
    "\n",
    "###################################################################################################    \n",
    "### Función para calcular precios finales por parte\n",
    "\n",
    "def precio_mueble(params, precios):\n",
    "    #función para calcular precio de cada parte del mueble\n",
    "    precio_final = dict()\n",
    "    precio_final['final'] = 0\n",
    "    parts = list(params)\n",
    "   \n",
    "    for i in parts:\n",
    "        \n",
    "        aux = 0\n",
    "        vn = params[i]['veneer']\n",
    "        gr = params[i]['width']\n",
    "        keys = list(parts[i])\n",
    "        \n",
    "        for k in keys:\n",
    "            j = range(len(keys))\n",
    "            \n",
    "            if k == 'area':\n",
    "                aux = aux + params[i][k]*(precios[vn]+precios[gr])\n",
    "                    \n",
    "            elif k == 'perimeter':\n",
    "                aux = aux + params[i][k]*precios['prmtr']\n",
    "\n",
    "            else:\n",
    "                pass\n",
    "            precio_final[i] = aux\n",
    "        precio_final['final'] = precio_final['final']+precio_final[i]\n",
    "                \n",
    "    return precio_final\n",
    "\n",
    "####################################################################################################################"
   ]
  },
  {
   "cell_type": "code",
   "execution_count": 4,
   "metadata": {},
   "outputs": [
    {
     "ename": "KeyError",
     "evalue": "'2'",
     "output_type": "error",
     "traceback": [
      "\u001b[1;31m---------------------------------------------------------------------------\u001b[0m",
      "\u001b[1;31mKeyError\u001b[0m                                  Traceback (most recent call last)",
      "\u001b[1;32m<ipython-input-4-290179bcf2c7>\u001b[0m in \u001b[0;36m<module>\u001b[1;34m()\u001b[0m\n\u001b[0;32m      7\u001b[0m     \u001b[0md\u001b[0m\u001b[1;33m[\u001b[0m\u001b[0mstr\u001b[0m\u001b[1;33m(\u001b[0m\u001b[0mg\u001b[0m\u001b[1;33m)\u001b[0m\u001b[1;33m]\u001b[0m\u001b[1;33m=\u001b[0m\u001b[0md\u001b[0m\u001b[1;33m[\u001b[0m\u001b[0mstr\u001b[0m\u001b[1;33m(\u001b[0m\u001b[0mg\u001b[0m\u001b[1;33m)\u001b[0m\u001b[1;33m]\u001b[0m\u001b[1;33m+\u001b[0m\u001b[1;36m1\u001b[0m\u001b[1;33m\u001b[0m\u001b[0m\n\u001b[0;32m      8\u001b[0m     \u001b[1;32mreturn\u001b[0m \u001b[0md\u001b[0m\u001b[1;33m\u001b[0m\u001b[0m\n\u001b[1;32m----> 9\u001b[1;33m \u001b[0maf\u001b[0m\u001b[1;33m(\u001b[0m\u001b[1;36m2\u001b[0m\u001b[1;33m)\u001b[0m\u001b[1;33m\u001b[0m\u001b[0m\n\u001b[0m",
      "\u001b[1;32m<ipython-input-4-290179bcf2c7>\u001b[0m in \u001b[0;36maf\u001b[1;34m(g)\u001b[0m\n\u001b[0;32m      5\u001b[0m     \u001b[0md\u001b[0m \u001b[1;33m=\u001b[0m \u001b[0mdict\u001b[0m\u001b[1;33m(\u001b[0m\u001b[1;33m)\u001b[0m\u001b[1;33m\u001b[0m\u001b[0m\n\u001b[0;32m      6\u001b[0m     \u001b[0md\u001b[0m\u001b[1;33m[\u001b[0m\u001b[1;36m1\u001b[0m\u001b[1;33m]\u001b[0m \u001b[1;33m=\u001b[0m \u001b[0mg\u001b[0m\u001b[1;33m-\u001b[0m\u001b[1;36m2\u001b[0m\u001b[1;33m\u001b[0m\u001b[0m\n\u001b[1;32m----> 7\u001b[1;33m     \u001b[0md\u001b[0m\u001b[1;33m[\u001b[0m\u001b[0mstr\u001b[0m\u001b[1;33m(\u001b[0m\u001b[0mg\u001b[0m\u001b[1;33m)\u001b[0m\u001b[1;33m]\u001b[0m\u001b[1;33m=\u001b[0m\u001b[0md\u001b[0m\u001b[1;33m[\u001b[0m\u001b[0mstr\u001b[0m\u001b[1;33m(\u001b[0m\u001b[0mg\u001b[0m\u001b[1;33m)\u001b[0m\u001b[1;33m]\u001b[0m\u001b[1;33m+\u001b[0m\u001b[1;36m1\u001b[0m\u001b[1;33m\u001b[0m\u001b[0m\n\u001b[0m\u001b[0;32m      8\u001b[0m     \u001b[1;32mreturn\u001b[0m \u001b[0md\u001b[0m\u001b[1;33m\u001b[0m\u001b[0m\n\u001b[0;32m      9\u001b[0m \u001b[0maf\u001b[0m\u001b[1;33m(\u001b[0m\u001b[1;36m2\u001b[0m\u001b[1;33m)\u001b[0m\u001b[1;33m\u001b[0m\u001b[0m\n",
      "\u001b[1;31mKeyError\u001b[0m: '2'"
     ]
    }
   ],
   "source": [
    "a = {'width':'qmm', 'area':'ssf',  'ff':{'sf':2, 'ss':3}}\n",
    "b = {a['width']:15}\n",
    "\n",
    "def af (g):\n",
    "    d = dict()\n",
    "    d[1] = g-2\n",
    "    d[str(g)]=d[str(g)]+1\n",
    "    return d\n",
    "af(2)"
   ]
  },
  {
   "cell_type": "code",
   "execution_count": 17,
   "metadata": {},
   "outputs": [
    {
     "name": "stdout",
     "output_type": "stream",
     "text": [
      "{'width': 2, 'area': 2, 'ff': 2}\n"
     ]
    }
   ],
   "source": [
    "a = {'width':'qmm', 'area':'ssf',  'ff':{'sf':2, 'ss':3}}\n",
    "b = {a['width']:15}\n",
    "d = dict()\n",
    "\n",
    "c = list(a)\n",
    "for i in c:\n",
    "    d[i]=2\n",
    "print(d)"
   ]
  }
 ],
 "metadata": {
  "kernelspec": {
   "display_name": "Python 3",
   "language": "python",
   "name": "python3"
  },
  "language_info": {
   "codemirror_mode": {
    "name": "ipython",
    "version": 3
   },
   "file_extension": ".py",
   "mimetype": "text/x-python",
   "name": "python",
   "nbconvert_exporter": "python",
   "pygments_lexer": "ipython3",
   "version": "3.6.5"
  }
 },
 "nbformat": 4,
 "nbformat_minor": 2
}
